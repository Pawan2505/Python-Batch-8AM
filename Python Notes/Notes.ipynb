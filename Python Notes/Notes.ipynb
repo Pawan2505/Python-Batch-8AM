{
 "cells": [
  {
   "cell_type": "markdown",
   "metadata": {},
   "source": [
    "## I/O Functions\n",
    "\n",
    "1. print()\n",
    "2. input()"
   ]
  },
  {
   "cell_type": "markdown",
   "metadata": {},
   "source": [
    "# ---"
   ]
  },
  {
   "cell_type": "markdown",
   "metadata": {},
   "source": [
    "## Types of Comments\n",
    "\n",
    "1. Single-line comment (using #)\n",
    "2. Multi-line comment (using triple quotes \"\"\"\n",
    "body\n",
    "body\n",
    "body\n",
    "body\n",
    "body\n",
    "\"\"\")"
   ]
  },
  {
   "cell_type": "code",
   "execution_count": null,
   "metadata": {},
   "outputs": [
    {
     "ename": "",
     "evalue": "",
     "output_type": "error",
     "traceback": [
      "\u001b[1;31mRunning cells with 'Python 3.13.1' requires the ipykernel package.\n",
      "\u001b[1;31mRun the following command to install 'ipykernel' into the Python environment. \n",
      "\u001b[1;31mCommand: '\"c:/Users/Pawan Maurya/AppData/Local/Programs/Python/Python313/python.exe\" -m pip install ipykernel -U --user --force-reinstall'"
     ]
    }
   ],
   "source": []
  },
  {
   "cell_type": "markdown",
   "metadata": {},
   "source": [
    "# ---"
   ]
  },
  {
   "cell_type": "markdown",
   "metadata": {},
   "source": [
    "## Datatypes & Variables"
   ]
  },
  {
   "cell_type": "markdown",
   "metadata": {},
   "source": [
    "### Types of Datatypes\n",
    "\n",
    "1. Primitive\n",
    "2. Collection"
   ]
  },
  {
   "cell_type": "code",
   "execution_count": null,
   "metadata": {},
   "outputs": [],
   "source": [
    "# Primitive Datatypes\n",
    "\n",
    "a = 5 # int\n",
    "b = 3.7 # float\n",
    "c = 'Hello' # str\n",
    "d = \"Hello\" # str\n",
    "e = '''Hello\n",
    "Python''' # multi-line string\n",
    "f = True # bool\n",
    "g = (4 + 2j) # complex\n",
    "\n",
    "print(a)\n",
    "print(b)\n",
    "print(c)\n",
    "print(d)\n",
    "print(e)\n",
    "print(f)\n",
    "print(g)"
   ]
  },
  {
   "cell_type": "code",
   "execution_count": null,
   "metadata": {},
   "outputs": [],
   "source": [
    "# Collection Datatypes\n",
    "\n",
    "l = [3, 6, 7.9, True, 3, 6] # list - mutable\n",
    "t = (5, 2, 9) # tuple - immutable\n",
    "s = {2, 4, 8, 2, 6, 4} # set - mutable\n",
    "f = frozenset({2, 3, 5, 7, 2, 5}) # immutable\n",
    "d = {'id': 1, 'name': 'Rahul', 'age': 20} # dict - mutable\n",
    "\n",
    "print(l)\n",
    "print(t)\n",
    "print(s)\n",
    "print(f)\n",
    "print(d)"
   ]
  },
  {
   "cell_type": "markdown",
   "metadata": {},
   "source": [
    "# ---"
   ]
  },
  {
   "cell_type": "markdown",
   "metadata": {},
   "source": [
    "## Control Structure"
   ]
  },
  {
   "cell_type": "markdown",
   "metadata": {},
   "source": [
    "### Types of Control Structure\n",
    "\n",
    "1. if statement\n",
    "2. if else\n",
    "3. ladder\n",
    "4. nested\n",
    "5. short-hand syntax (ternary)\n",
    "\n",
    "Note: There is no switch case statement in Python."
   ]
  },
  {
   "cell_type": "code",
   "execution_count": null,
   "metadata": {},
   "outputs": [],
   "source": [
    "# if statement\n",
    "\n",
    "'''\n",
    "if condition:\n",
    "  body\n",
    "'''\n",
    "\n",
    "# Note: Indentation (white space) is mendatory to indicate the body of any block in Python."
   ]
  },
  {
   "cell_type": "code",
   "execution_count": null,
   "metadata": {},
   "outputs": [],
   "source": [
    "# if statement\n",
    "\n",
    "if 30>20:\n",
    "    print(\"Hello\")"
   ]
  },
  {
   "cell_type": "code",
   "execution_count": null,
   "metadata": {},
   "outputs": [],
   "source": [
    "# if else statement\n",
    "\n",
    "'''\n",
    "if condition:\n",
    "    true part body\n",
    "else:\n",
    "    false part body\n",
    "'''"
   ]
  },
  {
   "cell_type": "code",
   "execution_count": null,
   "metadata": {},
   "outputs": [],
   "source": [
    "# if else statement\n",
    "\n",
    "a = 15\n",
    "b = 51\n",
    "\n",
    "if a>b:\n",
    "  print(\"a is max\")\n",
    "else:\n",
    "  print(\"b is max\")"
   ]
  },
  {
   "cell_type": "code",
   "execution_count": null,
   "metadata": {},
   "outputs": [],
   "source": [
    "# short-hand syntax (ternary)\n",
    "\n",
    "'''\n",
    "true_part if condition else false_part\n",
    "'''"
   ]
  },
  {
   "cell_type": "code",
   "execution_count": null,
   "metadata": {},
   "outputs": [],
   "source": [
    "# short-hand syntax (ternary)\n",
    "\n",
    "a = 30\n",
    "b = 5\n",
    "\n",
    "print(\"a is max\") if a>b else print(\"b is max\")"
   ]
  },
  {
   "cell_type": "code",
   "execution_count": null,
   "metadata": {},
   "outputs": [],
   "source": [
    "# ladder statement\n",
    "\n",
    "'''\n",
    "if condition1:\n",
    "    true part body\n",
    "elif condition2:\n",
    "    true part body\n",
    "elif condition3:\n",
    "    true part body\n",
    "else:\n",
    "    false part body\n",
    "'''"
   ]
  },
  {
   "cell_type": "code",
   "execution_count": null,
   "metadata": {},
   "outputs": [],
   "source": [
    "# ladder statement\n",
    "\n",
    "age = 22\n",
    "\n",
    "if age>18:\n",
    "    print(\"You can vote\")\n",
    "elif age==18:\n",
    "    print(\"You can also vote\")\n",
    "else:\n",
    "    print(\"You can not vote\")"
   ]
  },
  {
   "cell_type": "code",
   "execution_count": null,
   "metadata": {},
   "outputs": [],
   "source": [
    "# nested statement\n",
    "\n",
    "'''\n",
    "if condition:\n",
    "    if condition:\n",
    "        true part body\n",
    "    else:\n",
    "        false part body\n",
    "else:\n",
    "    false part body\n",
    "'''"
   ]
  },
  {
   "cell_type": "code",
   "execution_count": null,
   "metadata": {},
   "outputs": [],
   "source": [
    "# a = 70\n",
    "# b = 60\n",
    "# c = 60\n",
    "\n",
    "# a!=b  => a is not b\n",
    "\n",
    "# if a==b and b==c:\n",
    "#   print(\"All values are same\")\n",
    "# elif a==b:\n",
    "#   print(\"a and b are same\")\n",
    "# elif b==c:\n",
    "#   print(\"b and c are same\")\n",
    "# elif a==c:\n",
    "#   print(\"a and c are same\")\n",
    "# else:\n",
    "#   if a>b:\n",
    "#       if a>c:\n",
    "#           print(\"a is max\")\n",
    "#       else:\n",
    "#           print(\"c is max\")\n",
    "#   else:\n",
    "#       if b>c:\n",
    "#           print(\"b is max\")\n",
    "#       else:\n",
    "#           print(\"c is max\")\n",
    "\n",
    "a = 60\n",
    "b = 50\n",
    "c = 50\n",
    "\n",
    "# Check for equality first\n",
    "if a == b and b == c:\n",
    "    print(\"All values are same\")\n",
    "elif a == b:\n",
    "    print(\"a and b are same\")\n",
    "elif b == c:\n",
    "    print(\"b and c are same\")\n",
    "elif a == c:\n",
    "    print(\"a and c are same\")\n",
    "else:\n",
    "    print(\"All values are different\")\n",
    "\n",
    "# Check for maximum value\n",
    "if a >= b and a >= c:\n",
    "    print(\"a is max\")\n",
    "elif b >= a and b >= c:\n",
    "    print(\"b is max\")\n",
    "else:\n",
    "    print(\"c is max\")"
   ]
  },
  {
   "cell_type": "markdown",
   "metadata": {},
   "source": [
    "# ---"
   ]
  },
  {
   "cell_type": "markdown",
   "metadata": {},
   "source": [
    "## Looping"
   ]
  },
  {
   "cell_type": "markdown",
   "metadata": {},
   "source": [
    "### Types of Loop\n",
    "\n",
    "1. while (entry-control loop)\n",
    "2. for (entry-control loop)\n",
    "\n",
    "Note: There is no any exit-control loop in Python i.e, do while loop"
   ]
  },
  {
   "cell_type": "code",
   "execution_count": null,
   "metadata": {},
   "outputs": [],
   "source": [
    "# while loop\n",
    "\n",
    "'''\n",
    "initialization\n",
    "while condition:\n",
    "    body\n",
    "    increment or decrement\n",
    "'''"
   ]
  },
  {
   "cell_type": "code",
   "execution_count": null,
   "metadata": {},
   "outputs": [],
   "source": [
    "# while loop\n",
    "\n",
    "i = 1\n",
    "while i<=10:\n",
    "    print(i)\n",
    "    i += 1"
   ]
  },
  {
   "cell_type": "code",
   "execution_count": null,
   "metadata": {},
   "outputs": [],
   "source": [
    "# range() function\n",
    "\n",
    "'''\n",
    "range(start, end, step)\n",
    "'''\n",
    "\n",
    "# Note: step value is 1 by deault.\n",
    "\n",
    "range(10)           # 0 to 9\n",
    "range(1, 11)        # 1 to 10\n",
    "range(1, 11, 2)     # 1 to 10, i.e, 1, 3, 5, 7, 9"
   ]
  },
  {
   "cell_type": "code",
   "execution_count": null,
   "metadata": {},
   "outputs": [],
   "source": [
    "# for loop\n",
    "\n",
    "'''\n",
    "for var in sequence:\n",
    "    body\n",
    "'''"
   ]
  },
  {
   "cell_type": "code",
   "execution_count": null,
   "metadata": {},
   "outputs": [],
   "source": [
    "# for loop\n",
    "\n",
    "for i in range(1, 11):\n",
    "    if i%2 == 0:\n",
    "      print(i)"
   ]
  },
  {
   "cell_type": "markdown",
   "metadata": {},
   "source": [
    "# ---"
   ]
  },
  {
   "cell_type": "markdown",
   "metadata": {},
   "source": [
    "## String Formatting"
   ]
  },
  {
   "cell_type": "markdown",
   "metadata": {},
   "source": [
    "### Types of doing string formatting\n",
    "\n",
    "1. Using string's format() method\n",
    "2. Using % operator\n",
    "3. Using f-string"
   ]
  },
  {
   "cell_type": "code",
   "execution_count": null,
   "metadata": {},
   "outputs": [
    {
     "ename": "",
     "evalue": "",
     "output_type": "error",
     "traceback": [
      "\u001b[1;31mRunning cells with 'Python 3.13.1' requires the ipykernel package.\n",
      "\u001b[1;31mRun the following command to install 'ipykernel' into the Python environment. \n",
      "\u001b[1;31mCommand: '\"c:/Users/Pawan Maurya/AppData/Local/Programs/Python/Python313/python.exe\" -m pip install ipykernel -U --user --force-reinstall'"
     ]
    }
   ],
   "source": [
    "# format() method\n",
    "\n",
    "a = 5\n",
    "b = 3\n",
    "c = a + b\n",
    "\n",
    "# positional substitution\n",
    "# print(\"Addition of {} and {} is {}\".format(a, b, c))\n",
    "\n",
    "# index-based substitution\n",
    "print(\"Addition of {1} and {0} is {2}\".format(a, b, c))\n",
    "\n",
    "# keyword-based substitution\n",
    "# print(\"Addition of {num1} and {num2} is {ans}\".format(num1=a, num2=b, ans=c))"
   ]
  },
  {
   "cell_type": "code",
   "execution_count": null,
   "metadata": {},
   "outputs": [
    {
     "name": "stdout",
     "output_type": "stream",
     "text": [
      "The value of pi is: 3.14\n"
     ]
    }
   ],
   "source": [
    "# Float Precision with the format() Method\n",
    "\n",
    "'''\n",
    "Syntax:\n",
    "{[index]:[width][.precision][type]}\n",
    "'''\n",
    "\n",
    "'''\n",
    "The type can be used with format codes:\n",
    "\n",
    "'d' for integers\n",
    "'f' for floating-point numbers\n",
    "'s' for string\n",
    "'''\n",
    "\n",
    "pi  = 3.141592\n",
    "\n",
    "print('The value of pi is: %.2f' % pi)\n",
    "# print('The value of pi is: {0:1.2f}'.format(pi))"
   ]
  },
  {
   "cell_type": "code",
   "execution_count": null,
   "metadata": {},
   "outputs": [
    {
     "name": "stdout",
     "output_type": "stream",
     "text": [
      "Addition of 5 and 3 is 8\n"
     ]
    }
   ],
   "source": [
    "# % operator\n",
    "\n",
    "a = 5\n",
    "b = 3\n",
    "c = a + b\n",
    "\n",
    "print(\"Addition of %d and %d is %d\" %(a, b, c))"
   ]
  },
  {
   "cell_type": "code",
   "execution_count": null,
   "metadata": {},
   "outputs": [
    {
     "name": "stdout",
     "output_type": "stream",
     "text": [
      "Addition of 5 and 3 is 8\n"
     ]
    }
   ],
   "source": [
    "# f-string\n",
    "\n",
    "a = 5\n",
    "b = 3\n",
    "c = a + b\n",
    "\n",
    "print(f\"Addition of {a} and {b} is {c}\")"
   ]
  },
  {
   "cell_type": "markdown",
   "metadata": {},
   "source": [
    "# ---"
   ]
  },
  {
   "cell_type": "markdown",
   "metadata": {},
   "source": [
    "## Indexing, Slicing"
   ]
  },
  {
   "cell_type": "markdown",
   "metadata": {},
   "source": [
    "Indexing, and Slicing can be performed on the following datatypes:\n",
    "\n",
    "1. String\n",
    "2. List\n",
    "3. Tuple"
   ]
  },
  {
   "cell_type": "code",
   "execution_count": null,
   "metadata": {},
   "outputs": [
    {
     "name": "stdout",
     "output_type": "stream",
     "text": [
      "P\n",
      "n\n",
      "charry\n",
      "B\n"
     ]
    }
   ],
   "source": [
    "# Indexing\n",
    "\n",
    "'''\n",
    "Syntax: variable[index]\n",
    "'''\n",
    "\n",
    "name = \"Python\"\n",
    "print(name[0])   # P\n",
    "print(name[-1])  # n\n",
    "\n",
    "fruits = [\"apple\", \"banana\", \"charry\", \"mango\"]\n",
    "print(fruits[2]) # charry\n",
    "\n",
    "grades = (\"A\", \"B\", \"C\", \"F\")\n",
    "print(grades[1]) # B"
   ]
  },
  {
   "cell_type": "code",
   "execution_count": null,
   "metadata": {},
   "outputs": [
    {
     "name": "stdout",
     "output_type": "stream",
     "text": [
      "Py\n",
      "Py\n",
      "Python\n",
      "Python\n",
      "nohtyP\n",
      "Pto\n"
     ]
    }
   ],
   "source": [
    "# Slicing\n",
    "\n",
    "'''\n",
    "Syntax: variable[start:end:step]\n",
    "'''\n",
    "\n",
    "'''\n",
    "Note:\n",
    "- step value is 1 by deault.\n",
    "- end value is by default set to the length of a given variable.\n",
    "'''\n",
    "\n",
    "name = \"Python\"\n",
    "print(name[0:2])    # Py\n",
    "print(name[0:2:1])  # Py\n",
    "\n",
    "print(name[:])      # Python\n",
    "print(name[::])     # Python\n",
    "\n",
    "print(name[::-1])   # nohtyP\n",
    "\n",
    "print(name[::2])    # Pto"
   ]
  },
  {
   "cell_type": "markdown",
   "metadata": {},
   "source": [
    "# ---"
   ]
  },
  {
   "cell_type": "markdown",
   "metadata": {},
   "source": [
    "## Function"
   ]
  },
  {
   "cell_type": "markdown",
   "metadata": {},
   "source": [
    "### Some built-in Functions\n",
    "\n",
    "1. abs()\n",
    "2. bool()\n",
    "3. complex()\n",
    "4. dict()\n",
    "5. dir()\n",
    "6. divmod()\n",
    "7. float()\n",
    "8. format()\n",
    "9. frozenset()\n",
    "10. help()\n",
    "11. id()\n",
    "12. input()\n",
    "13. int()\n",
    "14. len()\n",
    "15. list()\n",
    "16. max()\n",
    "17. min()\n",
    "18. pow()\n",
    "19. print()\n",
    "20. range()\n",
    "21. reversed()\n",
    "22. round()\n",
    "23. set()\n",
    "24. sorted()\n",
    "25. str()\n",
    "26. sum()\n",
    "27. tuple()\n",
    "28. type()"
   ]
  },
  {
   "cell_type": "markdown",
   "metadata": {},
   "source": [
    "# ---"
   ]
  },
  {
   "cell_type": "markdown",
   "metadata": {},
   "source": [
    "## Array"
   ]
  },
  {
   "cell_type": "markdown",
   "metadata": {},
   "source": [
    "### Collection of multiple elements with same datatype."
   ]
  },
  {
   "cell_type": "markdown",
   "metadata": {},
   "source": [
    "### Types of Array\n",
    "\n",
    "1. One Dimensional Array (1D Array)\n",
    "2. Multi Dimensional Array (2D, 3D, ..., ND Array)"
   ]
  },
  {
   "cell_type": "code",
   "execution_count": null,
   "metadata": {},
   "outputs": [],
   "source": [
    "# 1D Array's CRUD Operation\n",
    "\n",
    "'''\n",
    "C - Create/Insert\n",
    "R - Read\n",
    "U - Update\n",
    "D - Delete\n",
    "'''"
   ]
  },
  {
   "cell_type": "code",
   "execution_count": null,
   "metadata": {},
   "outputs": [
    {
     "data": {
      "text/plain": [
       "[3, 6, 9, 1, 2]"
      ]
     },
     "metadata": {},
     "output_type": "display_data"
    }
   ],
   "source": [
    "# C - Create/Insert\n",
    "\n",
    "array = [3, 6, 9, 1, 2]\n",
    "\n",
    "array"
   ]
  },
  {
   "cell_type": "code",
   "execution_count": null,
   "metadata": {},
   "outputs": [],
   "source": [
    "# C - Create/Insert\n",
    "\n",
    "array.append(5)"
   ]
  },
  {
   "cell_type": "code",
   "execution_count": null,
   "metadata": {},
   "outputs": [
    {
     "data": {
      "text/plain": [
       "[3, 6, 9, 1, 2, 5]"
      ]
     },
     "metadata": {},
     "output_type": "display_data"
    }
   ],
   "source": [
    "array"
   ]
  },
  {
   "cell_type": "code",
   "execution_count": null,
   "metadata": {},
   "outputs": [
    {
     "data": {
      "text/plain": [
       "[5, 3, 6, 9, 1, 2, 5]"
      ]
     },
     "metadata": {},
     "output_type": "display_data"
    }
   ],
   "source": [
    "# C - Create/Insert\n",
    "\n",
    "array.insert(0, 5)\n",
    "\n",
    "array"
   ]
  },
  {
   "cell_type": "code",
   "execution_count": null,
   "metadata": {},
   "outputs": [
    {
     "name": "stdout",
     "output_type": "stream",
     "text": [
      "5\n",
      "3\n",
      "6\n",
      "9\n",
      "1\n",
      "2\n",
      "5\n"
     ]
    }
   ],
   "source": [
    "# R - Read\n",
    "\n",
    "# Indexing\n",
    "# array[0]\n",
    "\n",
    "# Iteration\n",
    "for elem in array:\n",
    "    print(elem)"
   ]
  },
  {
   "cell_type": "code",
   "execution_count": null,
   "metadata": {},
   "outputs": [
    {
     "data": {
      "text/plain": [
       "[11, 3, 6, 9, 1, 2, 9]"
      ]
     },
     "metadata": {},
     "output_type": "display_data"
    }
   ],
   "source": [
    "# U - Update\n",
    "\n",
    "'''\n",
    "array[index] = val\n",
    "'''\n",
    "\n",
    "array[0] = 11\n",
    "array[-1] = 9\n",
    "\n",
    "array"
   ]
  },
  {
   "cell_type": "code",
   "execution_count": null,
   "metadata": {},
   "outputs": [
    {
     "data": {
      "text/plain": [
       "9"
      ]
     },
     "metadata": {},
     "output_type": "display_data"
    }
   ],
   "source": [
    "# D - Delete\n",
    "\n",
    "array.pop()"
   ]
  },
  {
   "cell_type": "code",
   "execution_count": null,
   "metadata": {},
   "outputs": [
    {
     "data": {
      "text/plain": [
       "[11, 3, 6, 9, 1, 2]"
      ]
     },
     "metadata": {},
     "output_type": "display_data"
    }
   ],
   "source": [
    "array"
   ]
  },
  {
   "cell_type": "code",
   "execution_count": null,
   "metadata": {},
   "outputs": [],
   "source": [
    "# D - Delete\n",
    "\n",
    "array.remove(9)"
   ]
  },
  {
   "cell_type": "code",
   "execution_count": null,
   "metadata": {},
   "outputs": [
    {
     "data": {
      "text/plain": [
       "[11, 3, 6, 1, 2]"
      ]
     },
     "metadata": {},
     "output_type": "display_data"
    }
   ],
   "source": [
    "array"
   ]
  },
  {
   "cell_type": "code",
   "execution_count": null,
   "metadata": {},
   "outputs": [
    {
     "data": {
      "text/plain": [
       "[]"
      ]
     },
     "metadata": {},
     "output_type": "display_data"
    }
   ],
   "source": [
    "# D - Delete\n",
    "\n",
    "array.clear()\n",
    "\n",
    "array"
   ]
  },
  {
   "cell_type": "code",
   "execution_count": null,
   "metadata": {},
   "outputs": [],
   "source": [
    "# D - Delete\n",
    "\n",
    "del array"
   ]
  },
  {
   "cell_type": "markdown",
   "metadata": {},
   "source": [
    "# ---"
   ]
  },
  {
   "cell_type": "markdown",
   "metadata": {},
   "source": [
    "## Sorting"
   ]
  },
  {
   "cell_type": "markdown",
   "metadata": {},
   "source": [
    "### Types of Sorting\n",
    "\n",
    "1. Ascending\n",
    "2. Descending"
   ]
  },
  {
   "cell_type": "code",
   "execution_count": null,
   "metadata": {},
   "outputs": [
    {
     "data": {
      "text/plain": [
       "[3, 66, 9, 11, 2]"
      ]
     },
     "metadata": {},
     "output_type": "display_data"
    }
   ],
   "source": [
    "array = [3, 66, 9, 11, 2]\n",
    "\n",
    "array"
   ]
  },
  {
   "cell_type": "code",
   "execution_count": null,
   "metadata": {},
   "outputs": [],
   "source": [
    "# Ascending\n",
    "\n",
    "array.sort()  # Only perform ascending"
   ]
  },
  {
   "cell_type": "code",
   "execution_count": null,
   "metadata": {},
   "outputs": [
    {
     "data": {
      "text/plain": [
       "[2, 3, 9, 11, 66]"
      ]
     },
     "metadata": {},
     "output_type": "display_data"
    }
   ],
   "source": [
    "array"
   ]
  },
  {
   "cell_type": "code",
   "execution_count": null,
   "metadata": {},
   "outputs": [
    {
     "data": {
      "text/plain": [
       "[2, 3, 9, 11, 66]"
      ]
     },
     "metadata": {},
     "output_type": "display_data"
    }
   ],
   "source": [
    "# Ascending\n",
    "\n",
    "arranged_array = sorted(array)\n",
    "\n",
    "arranged_array"
   ]
  },
  {
   "cell_type": "code",
   "execution_count": null,
   "metadata": {},
   "outputs": [
    {
     "data": {
      "text/plain": [
       "[66, 11, 9, 3, 2]"
      ]
     },
     "metadata": {},
     "output_type": "display_data"
    }
   ],
   "source": [
    "# Descending\n",
    "\n",
    "arranged_array = sorted(array, reverse=True)\n",
    "\n",
    "arranged_array"
   ]
  },
  {
   "cell_type": "markdown",
   "metadata": {},
   "source": [
    "# ---"
   ]
  }
 ],
 "metadata": {
  "kernelspec": {
   "display_name": "Python 3",
   "language": "python",
   "name": "python3"
  },
  "language_info": {
   "name": "python",
   "version": "3.13.1"
  }
 },
 "nbformat": 4,
 "nbformat_minor": 2
}
